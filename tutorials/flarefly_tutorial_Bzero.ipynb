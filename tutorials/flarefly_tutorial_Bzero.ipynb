{
  "cells": [
    {
      "cell_type": "markdown",
      "metadata": {
        "id": "tcCpenNbkH_M"
      },
      "source": [
        "# **Invariant mass fit with flarefly**\n",
        "\n",
        "The goal of this tutorial is to provide an example of invariant mass fit using the package [flarefly](https://flarefly.github.io/flarefly/index.html).\n",
        "\n",
        "This tutorial is based on the measurement of the invariant mass of the $\\mathrm{B^{0}}$ meson, trough its two-body decay channel $\\mathrm{B^{0}} \\rightarrow \\mathrm{D^{-}} +\\mathrm{\\pi^{+}}$, in the transverse-momentum interval $0 \\leqslant p_{\\mathrm{T}} \\leqslant 50$ GeV/$c$. The data were Monte Carlo simulated by ALICE (where the decay channel of interest is forced) and correspond to 5 million minimum-bias pp collisions at $\\sqrt{s}$ = 900 GeV. In this data sample about $12\\,000$ $\\mathrm{B^{0}}$ candidates were reconstructed."
      ]
    },
    {
      "cell_type": "markdown",
      "metadata": {
        "id": "5s9DchJIk17A"
      },
      "source": [
        "## **Prerequisites**\n",
        "\n",
        "The following packages are needed to follow this tutorial and in general to use _flarefly_:\n",
        "\n",
        "- [_uproot_](https://github.com/scikit-hep/uproot) is a reader and a writer of the ROOT file data format and is used to cast blocks of data from the ROOT file as Numpy arrays.\n",
        "\n",
        "- [_zfit_](https://github.com/zfit) is a highly scalable and customizable model manipulation and fitting library. It uses [_TensorFlow_](https://www.tensorflow.org/) as its computational backend and is optimised for simple and direct manipulation of probability density functions.\n"
      ]
    },
    {
      "cell_type": "code",
      "execution_count": null,
      "metadata": {
        "id": "2vw5_WPAkCZd"
      },
      "outputs": [],
      "source": [
        "%%capture\n",
        "!pip install tensorflow\n",
        "!pip install zfit\n",
        "!pip install git+https://github.com/flarefly/flarefly.git@dev\n",
        "!pip install uproot"
      ]
    },
    {
      "cell_type": "markdown",
      "metadata": {
        "id": "fUUxs5-SmPTt"
      },
      "source": [
        "## **File download**"
      ]
    },
    {
      "cell_type": "code",
      "execution_count": null,
      "metadata": {
        "id": "sD-5mNSXmdqn"
      },
      "outputs": [],
      "source": [
        "%%capture\n",
        "!curl -L https://cernbox.cern.ch/s/TUhBQIOBMSel5mK/download --output file.root"
      ]
    },
    {
      "cell_type": "markdown",
      "metadata": {
        "id": "ipIO0MPFm-Qb"
      },
      "source": [
        "## **Required python packages**\n",
        "\n",
        "The packages required for the tutorial are imported in the following."
      ]
    },
    {
      "cell_type": "code",
      "execution_count": null,
      "metadata": {
        "id": "-nIen7b7nGVU"
      },
      "outputs": [],
      "source": [
        "%%capture\n",
        "import numpy as np\n",
        "import matplotlib.pyplot as plt\n",
        "import uproot\n",
        "from flarefly.data_handler import DataHandler\n",
        "from flarefly.fitter import F2MassFitter"
      ]
    },
    {
      "cell_type": "markdown",
      "metadata": {
        "id": "1o8a7oPVnxE3"
      },
      "source": [
        "## **Prepare data | DataHandler instance**\n",
        "\n",
        "The data one aims at fitting are drawn from the histogram *hist_mass_bzero_pt0_50* contained in *file.root* downloaded earlier.\n",
        "\n",
        "*flarefly* allows for a simple handling of the data by calling a *DataHandler* instance that shall take care of adapting the input to our fitter class."
      ]
    },
    {
      "cell_type": "code",
      "execution_count": null,
      "metadata": {
        "id": "1me0iMExNRDA"
      },
      "outputs": [],
      "source": [
        "data = DataHandler(data=\"file.root\",\n",
        "                   var_name=r\"$M_\\mathrm{D^{-}\\pi^{+}}$ (GeV/$c^{2}$)\",\n",
        "                   histoname=\"hist_mass_bzero_pt0_50\")"
      ]
    },
    {
      "cell_type": "markdown",
      "metadata": {
        "id": "p5CvkIgsPPlS"
      },
      "source": [
        "## **Prepare fitter | F2MassFitter instance**\n",
        "\n",
        "Once data are prepared, one still needs to configure the fitter:\n",
        "\n",
        "1. Define probability density functions (PDFs) for signal and background\n",
        "2. Define a F2MassFitter instance\n",
        "3. Initialize fit parameters"
      ]
    },
    {
      "cell_type": "markdown",
      "metadata": {
        "id": "z3HLaZUNTntt"
      },
      "source": [
        "### **1. Define PDFs**\n",
        "\n",
        "*flarefly* is based on *zfit*, itself optimised for a direct manipulation of probability density functions. Hence the need to define PDFs for signal and for background.\n",
        "\n",
        "**NB**: *flarefly* allows one to perform multi-fits with several signal and/or background PDFs. That's why one works with PDFs **lists**. In this sense, every PDF is associated to an index (i.e. its position in the list). This index will be required later while configuring the fitter."
      ]
    },
    {
      "cell_type": "code",
      "execution_count": null,
      "metadata": {
        "id": "aSxK1wUpP3Vz"
      },
      "outputs": [],
      "source": [
        "# define PDFs lists\n",
        "signal_pdfs = [\"gaussian\"]\n",
        "background_pdfs = [\"expo\"]\n",
        "\n",
        "# define the ids\n",
        "gaussian_id = 0 # because signal_pdfs[gaussian_id] = \"gaussian\"\n",
        "expo_id = 0     # because background_pdfs[expo_id] = \"expo\""
      ]
    },
    {
      "cell_type": "markdown",
      "metadata": {
        "id": "rrXKVQgHVBPF"
      },
      "source": [
        "### **2. Define a F2MassFitter instance**\n",
        "\n"
      ]
    },
    {
      "cell_type": "code",
      "execution_count": null,
      "metadata": {
        "id": "uJlZgJ15PnW1"
      },
      "outputs": [],
      "source": [
        "fitter = F2MassFitter(data_handler=data,\n",
        "                      name_signal_pdf=signal_pdfs,\n",
        "                      name_background_pdf=background_pdfs,\n",
        "                      name=f\"{background_pdfs[expo_id]}_{signal_pdfs[gaussian_id]}\")"
      ]
    },
    {
      "cell_type": "markdown",
      "metadata": {
        "id": "Xc9eKVjnWvSf"
      },
      "source": [
        "### **3. Initialize fit parameters**\n",
        "\n",
        "The naming convention of the fit parameters is adapted to *flarefly* environment:\n",
        "\n",
        "- First of all, one can access the parameters names either via the [_zfit_ documentation](https://zfit.readthedocs.io/en/latest/user_api/zfit.pdf.html) (for the PDFs defined there) or in the [_custom_pdfs_](https://flarefly.github.io/flarefly/custom_pdfs.html) class (for the PDFs specific to *flarefly*).\n",
        "- Then, two subtelties arise:\n",
        "  - Here *mass* takes a specific place among the fit parameters (as *flarefly* is thought for invariant mass fit) so there is a dedicated method for its initialization: _set_particle_mass_. \\\\\n",
        "  Hence the _mu_ parameter (or _m_ for cauchy PDF) is handled via this dedicated method, where one can (among other possibilities) use the PDG code of the particle (511 for $\\mathrm{B^0}$).\n",
        "  - The normalization factor attached to each PDF, named _frac_ (for fraction of this PDF with respect to the total PDF) can also be initialized.\n",
        "\n",
        "Otherwise, the other parameters of the PDFs (as _sigma_ for the gaussian PDF) keep the same name.\n",
        "\n",
        "**NB**: one can limit the value of a parameter to a given interval or fix a given parameter, see [documentation](https://flarefly.github.io/flarefly/fitter.html#flarefly.fitter.F2MassFitter.set_signal_initpar)."
      ]
    },
    {
      "cell_type": "code",
      "execution_count": null,
      "metadata": {
        "id": "aOJMBcEYP8_R"
      },
      "outputs": [],
      "source": [
        "fitter.set_particle_mass(gaussian_id, pdg_id=511)\n",
        "fitter.set_signal_initpar(gaussian_id, \"frac\", 0.3, limits=[0.2, 0.4])\n",
        "fitter.set_signal_initpar(gaussian_id, \"sigma\", 0.010)\n",
        "\n",
        "fitter.set_background_initpar(expo_id, \"lam\", -1.5)"
      ]
    },
    {
      "cell_type": "markdown",
      "metadata": {
        "id": "mkSQgg8sQCbC"
      },
      "source": [
        "## **The actual (one-liner) mass fit**\n",
        "\n",
        "The method _mass_zfit_ builds a total PDF (from the signal and background ones) to fit data using _zfit_ library."
      ]
    },
    {
      "cell_type": "code",
      "execution_count": null,
      "metadata": {
        "id": "zP2bZmGxQA2N",
        "collapsed": true
      },
      "outputs": [],
      "source": [
        "fitter.mass_zfit()"
      ]
    },
    {
      "cell_type": "markdown",
      "source": [
        "**NB**: one can directly store the fit result in a variable via *fitres = fitter.mass_zfit()* or call it later on as follows: *fitres = fitter.get_fit_result()*."
      ],
      "metadata": {
        "id": "Lj5KdCE3uGrv"
      }
    },
    {
      "cell_type": "markdown",
      "metadata": {
        "id": "sfgnAK0JbtcV"
      },
      "source": [
        "## **Draw plots**\n",
        "\n",
        "*flarefly* provides plot utils to draw:\n",
        "- the invariant mass fit of the total PDF, along with the signal PDF and background PDF. There is the possibility to plot _extra_info_ such as parameters, signal and background derived quantities;\n",
        "- the raw residuals of the fit: (data_value - bkg_model_value);\n",
        "- the standardized residuals of the fit: (data_value - bkg_model_value)/ sigma_data ."
      ]
    },
    {
      "cell_type": "code",
      "execution_count": null,
      "metadata": {
        "id": "nhuUiS3zKFhu",
        "collapsed": true
      },
      "outputs": [],
      "source": [
        "# plot the fit result with display options\n",
        "plot_mass_fit = fitter.plot_mass_fit(style=\"ATLAS\",\n",
        "                    show_extra_info=True,\n",
        "                    extra_info_loc=['upper left', 'center right'])"
      ]
    },
    {
      "cell_type": "code",
      "execution_count": null,
      "metadata": {
        "id": "dbXb30q7KHlQ",
        "collapsed": true
      },
      "outputs": [],
      "source": [
        "plot_raw_residuals = fitter.plot_raw_residuals(style=\"ATLAS\")"
      ]
    },
    {
      "cell_type": "code",
      "execution_count": null,
      "metadata": {
        "id": "_OM8gVQ3K9c4",
        "collapsed": true
      },
      "outputs": [],
      "source": [
        "plot_std_residuals = fitter.plot_std_residuals(style=\"ATLAS\")"
      ]
    },
    {
      "cell_type": "markdown",
      "metadata": {
        "id": "6NDID3wwb2yZ"
      },
      "source": [
        "## **Get information on fit results**\n",
        "\n",
        "Once the mass fit is performed, one can access fit parameters value and uncertainty via _F2MassFitter_ instance."
      ]
    },
    {
      "cell_type": "code",
      "source": [
        "frac_value, frac_error = fitter.get_signal_parameter(gaussian_id, \"frac\")\n",
        "sigma_value, sigma_error = fitter.get_signal_parameter(gaussian_id, \"sigma\")\n",
        "\n",
        "lambda_value, lambda_error = fitter.get_background_parameter(expo_id, \"lam\")\n",
        "\n",
        "print(f\"Signal fraction = {frac_value:.4f} +- {frac_error:.4f}\")\n",
        "print(f\"sigma = {sigma_value:.4f} +- {sigma_error:.4f} GeV/c^2\")\n",
        "print(f\"lambda = {lambda_value:.4f} +- {lambda_error:.4f} c^2/Gev\")"
      ],
      "metadata": {
        "id": "ZoGJzxLw-V2p"
      },
      "execution_count": null,
      "outputs": []
    },
    {
      "cell_type": "markdown",
      "source": [
        "In HEP, one is also and foremost interested in accessing the raw yield of the studied particle There is also a dedicated method for that."
      ],
      "metadata": {
        "id": "p9Z3GzEEtO_z"
      }
    },
    {
      "cell_type": "code",
      "source": [
        "raw_yield, raw_yield_error = fitter.get_raw_yield(gaussian_id)\n",
        "\n",
        "print(f\"B0 raw yield for 0 < pT < 50 GeV/c :{raw_yield:.0f} +- {raw_yield_error:.0f}\")"
      ],
      "metadata": {
        "id": "Sbotfi0stPX7"
      },
      "execution_count": null,
      "outputs": []
    },
    {
      "cell_type": "markdown",
      "metadata": {
        "id": "Wt2e-Gi8cNPs"
      },
      "source": [
        "## **Bonus: Export information to .root file**\n",
        "\n",
        "One could be interested in saving the data and PDFs curves in a _.root_ file. If so, the method _dump_to_root_ can be used."
      ]
    },
    {
      "cell_type": "code",
      "execution_count": null,
      "metadata": {
        "id": "56ToGqqAc5tl"
      },
      "outputs": [],
      "source": [
        "fitter.dump_to_root(filename=\"output.root\")"
      ]
    }
  ],
  "metadata": {
    "colab": {
      "toc_visible": true,
      "provenance": []
    },
    "kernelspec": {
      "display_name": "Python 3",
      "name": "python3"
    },
    "language_info": {
      "name": "python"
    }
  },
  "nbformat": 4,
  "nbformat_minor": 0
}